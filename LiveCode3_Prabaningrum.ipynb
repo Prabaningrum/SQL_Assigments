{
  "cells": [
    {
      "cell_type": "markdown",
      "metadata": {
        "id": "igF-xF8CboHJ"
      },
      "source": [
        "# Live Code 3\n",
        "\n",
        "**Name: Prabaningrum Hendraswari Buditjahjono**\n",
        "\n",
        "**Batch:001- HCK**"
      ]
    },
    {
      "cell_type": "markdown",
      "metadata": {
        "id": "nPt7EpufboHK"
      },
      "source": [
        "## Description\n",
        "\n",
        "### Problem Statement\n",
        "\n",
        "Improving user/customer's experience in a service like travel insurance is important. Therefore, the company needs to find out what are the typical attributes in a person's travel that makes them claim their travel insurance so that they can determine what services would be fitting to offer to the public and minimize fraud."
      ]
    },
    {
      "cell_type": "markdown",
      "metadata": {
        "id": "yspZpRu-boHK"
      },
      "source": [
        "## Working Area\n",
        "\n",
        "```txt\n",
        "Put your code, analysis, everything below this line\n",
        "\n",
        "Make sure to check everything the rubric requires before you submit\n",
        "```"
      ]
    },
    {
      "cell_type": "code",
      "execution_count": 175,
      "metadata": {},
      "outputs": [],
      "source": [
        "import pandas as pd"
      ]
    },
    {
      "cell_type": "code",
      "execution_count": 176,
      "metadata": {
        "colab": {
          "base_uri": "https://localhost:8080/",
          "height": 385
        },
        "id": "uV87BNooboHK",
        "outputId": "1360139e-45d1-43a2-a8b2-6a83da3ffef0"
      },
      "outputs": [
        {
          "name": "stdout",
          "output_type": "stream",
          "text": [
            "Successfully connected to MySQL database\n"
          ]
        }
      ],
      "source": [
        "import mysql.connector\n",
        "\n",
        "db_con = mysql.connector.connect(\n",
        "    host=\"remotemysql.com\",\n",
        "    user= \"cESOsiaUiy\",\n",
        "    passwd= \"saecUeCNAL\",\n",
        "    database= \"cESOsiaUiy\"\n",
        ")\n",
        "\n",
        "if db_con.is_connected():\n",
        "    print(\"Successfully connected to MySQL database\")"
      ]
    },
    {
      "cell_type": "code",
      "execution_count": 177,
      "metadata": {},
      "outputs": [
        {
          "name": "stderr",
          "output_type": "stream",
          "text": [
            "c:\\Users\\praba\\anaconda3\\lib\\site-packages\\pandas\\io\\sql.py:761: UserWarning: pandas only support SQLAlchemy connectable(engine/connection) ordatabase string URI or sqlite3 DBAPI2 connectionother DBAPI2 objects are not tested, please consider using SQLAlchemy\n",
            "  warnings.warn(\n"
          ]
        },
        {
          "data": {
            "text/html": [
              "<div>\n",
              "<style scoped>\n",
              "    .dataframe tbody tr th:only-of-type {\n",
              "        vertical-align: middle;\n",
              "    }\n",
              "\n",
              "    .dataframe tbody tr th {\n",
              "        vertical-align: top;\n",
              "    }\n",
              "\n",
              "    .dataframe thead th {\n",
              "        text-align: right;\n",
              "    }\n",
              "</style>\n",
              "<table border=\"1\" class=\"dataframe\">\n",
              "  <thead>\n",
              "    <tr style=\"text-align: right;\">\n",
              "      <th></th>\n",
              "      <th>id</th>\n",
              "      <th>agency</th>\n",
              "      <th>agency_type</th>\n",
              "      <th>distribution_channel</th>\n",
              "      <th>product_name</th>\n",
              "      <th>claim</th>\n",
              "      <th>duration</th>\n",
              "      <th>destination</th>\n",
              "      <th>net_sales</th>\n",
              "      <th>commission</th>\n",
              "      <th>gender</th>\n",
              "      <th>age</th>\n",
              "    </tr>\n",
              "  </thead>\n",
              "  <tbody>\n",
              "    <tr>\n",
              "      <th>0</th>\n",
              "      <td>1</td>\n",
              "      <td>CBH</td>\n",
              "      <td>Travel Agency</td>\n",
              "      <td>Offline</td>\n",
              "      <td>Comprehensive Plan</td>\n",
              "      <td>No</td>\n",
              "      <td>186</td>\n",
              "      <td>MALAYSIA</td>\n",
              "      <td>-29</td>\n",
              "      <td>9.57</td>\n",
              "      <td>F</td>\n",
              "      <td>81</td>\n",
              "    </tr>\n",
              "    <tr>\n",
              "      <th>1</th>\n",
              "      <td>2</td>\n",
              "      <td>CBH</td>\n",
              "      <td>Travel Agency</td>\n",
              "      <td>Offline</td>\n",
              "      <td>Comprehensive Plan</td>\n",
              "      <td>No</td>\n",
              "      <td>186</td>\n",
              "      <td>MALAYSIA</td>\n",
              "      <td>-29</td>\n",
              "      <td>9.57</td>\n",
              "      <td>F</td>\n",
              "      <td>71</td>\n",
              "    </tr>\n",
              "    <tr>\n",
              "      <th>2</th>\n",
              "      <td>3</td>\n",
              "      <td>JZI</td>\n",
              "      <td>Airlines</td>\n",
              "      <td>Online</td>\n",
              "      <td>Value Plan</td>\n",
              "      <td>No</td>\n",
              "      <td>66</td>\n",
              "      <td>UNITED STATES</td>\n",
              "      <td>-121</td>\n",
              "      <td>42.35</td>\n",
              "      <td>F</td>\n",
              "      <td>44</td>\n",
              "    </tr>\n",
              "    <tr>\n",
              "      <th>3</th>\n",
              "      <td>4</td>\n",
              "      <td>JZI</td>\n",
              "      <td>Airlines</td>\n",
              "      <td>Online</td>\n",
              "      <td>Basic Plan</td>\n",
              "      <td>No</td>\n",
              "      <td>1</td>\n",
              "      <td>MALAYSIA</td>\n",
              "      <td>-18</td>\n",
              "      <td>6.30</td>\n",
              "      <td>M</td>\n",
              "      <td>47</td>\n",
              "    </tr>\n",
              "    <tr>\n",
              "      <th>4</th>\n",
              "      <td>5</td>\n",
              "      <td>KML</td>\n",
              "      <td>Travel Agency</td>\n",
              "      <td>Online</td>\n",
              "      <td>Premier Plan</td>\n",
              "      <td>No</td>\n",
              "      <td>53</td>\n",
              "      <td>NORWAY</td>\n",
              "      <td>-130</td>\n",
              "      <td>49.40</td>\n",
              "      <td>F</td>\n",
              "      <td>48</td>\n",
              "    </tr>\n",
              "    <tr>\n",
              "      <th>...</th>\n",
              "      <td>...</td>\n",
              "      <td>...</td>\n",
              "      <td>...</td>\n",
              "      <td>...</td>\n",
              "      <td>...</td>\n",
              "      <td>...</td>\n",
              "      <td>...</td>\n",
              "      <td>...</td>\n",
              "      <td>...</td>\n",
              "      <td>...</td>\n",
              "      <td>...</td>\n",
              "      <td>...</td>\n",
              "    </tr>\n",
              "    <tr>\n",
              "      <th>18214</th>\n",
              "      <td>18215</td>\n",
              "      <td>JZI</td>\n",
              "      <td>Airlines</td>\n",
              "      <td>Online</td>\n",
              "      <td>Basic Plan</td>\n",
              "      <td>No</td>\n",
              "      <td>111</td>\n",
              "      <td>JAPAN</td>\n",
              "      <td>35</td>\n",
              "      <td>12.25</td>\n",
              "      <td>M</td>\n",
              "      <td>31</td>\n",
              "    </tr>\n",
              "    <tr>\n",
              "      <th>18215</th>\n",
              "      <td>18216</td>\n",
              "      <td>JZI</td>\n",
              "      <td>Airlines</td>\n",
              "      <td>Online</td>\n",
              "      <td>Basic Plan</td>\n",
              "      <td>No</td>\n",
              "      <td>58</td>\n",
              "      <td>CHINA</td>\n",
              "      <td>40</td>\n",
              "      <td>14.00</td>\n",
              "      <td>F</td>\n",
              "      <td>40</td>\n",
              "    </tr>\n",
              "    <tr>\n",
              "      <th>18216</th>\n",
              "      <td>18217</td>\n",
              "      <td>JZI</td>\n",
              "      <td>Airlines</td>\n",
              "      <td>Online</td>\n",
              "      <td>Basic Plan</td>\n",
              "      <td>No</td>\n",
              "      <td>2</td>\n",
              "      <td>MALAYSIA</td>\n",
              "      <td>18</td>\n",
              "      <td>6.30</td>\n",
              "      <td>M</td>\n",
              "      <td>57</td>\n",
              "    </tr>\n",
              "    <tr>\n",
              "      <th>18217</th>\n",
              "      <td>18218</td>\n",
              "      <td>JZI</td>\n",
              "      <td>Airlines</td>\n",
              "      <td>Online</td>\n",
              "      <td>Basic Plan</td>\n",
              "      <td>No</td>\n",
              "      <td>3</td>\n",
              "      <td>VIET NAM</td>\n",
              "      <td>18</td>\n",
              "      <td>6.30</td>\n",
              "      <td>M</td>\n",
              "      <td>63</td>\n",
              "    </tr>\n",
              "    <tr>\n",
              "      <th>18218</th>\n",
              "      <td>18219</td>\n",
              "      <td>JZI</td>\n",
              "      <td>Airlines</td>\n",
              "      <td>Online</td>\n",
              "      <td>Basic Plan</td>\n",
              "      <td>No</td>\n",
              "      <td>22</td>\n",
              "      <td>HONG KONG</td>\n",
              "      <td>26</td>\n",
              "      <td>9.10</td>\n",
              "      <td>F</td>\n",
              "      <td>35</td>\n",
              "    </tr>\n",
              "  </tbody>\n",
              "</table>\n",
              "<p>18219 rows × 12 columns</p>\n",
              "</div>"
            ],
            "text/plain": [
              "          id agency    agency_type distribution_channel        product_name  \\\n",
              "0          1    CBH  Travel Agency              Offline  Comprehensive Plan   \n",
              "1          2    CBH  Travel Agency              Offline  Comprehensive Plan   \n",
              "2          3    JZI       Airlines               Online          Value Plan   \n",
              "3          4    JZI       Airlines               Online          Basic Plan   \n",
              "4          5    KML  Travel Agency               Online        Premier Plan   \n",
              "...      ...    ...            ...                  ...                 ...   \n",
              "18214  18215    JZI       Airlines               Online          Basic Plan   \n",
              "18215  18216    JZI       Airlines               Online          Basic Plan   \n",
              "18216  18217    JZI       Airlines               Online          Basic Plan   \n",
              "18217  18218    JZI       Airlines               Online          Basic Plan   \n",
              "18218  18219    JZI       Airlines               Online          Basic Plan   \n",
              "\n",
              "      claim  duration    destination  net_sales  commission gender  age  \n",
              "0        No       186       MALAYSIA        -29        9.57      F   81  \n",
              "1        No       186       MALAYSIA        -29        9.57      F   71  \n",
              "2        No        66  UNITED STATES       -121       42.35      F   44  \n",
              "3        No         1       MALAYSIA        -18        6.30      M   47  \n",
              "4        No        53         NORWAY       -130       49.40      F   48  \n",
              "...     ...       ...            ...        ...         ...    ...  ...  \n",
              "18214    No       111          JAPAN         35       12.25      M   31  \n",
              "18215    No        58          CHINA         40       14.00      F   40  \n",
              "18216    No         2       MALAYSIA         18        6.30      M   57  \n",
              "18217    No         3       VIET NAM         18        6.30      M   63  \n",
              "18218    No        22      HONG KONG         26        9.10      F   35  \n",
              "\n",
              "[18219 rows x 12 columns]"
            ]
          },
          "execution_count": 177,
          "metadata": {},
          "output_type": "execute_result"
        }
      ],
      "source": [
        "#showing the dataset\n",
        "df = pd.read_sql('SELECT * FROM travel_insurance', con=db_con)\n",
        "df"
      ]
    },
    {
      "cell_type": "markdown",
      "metadata": {},
      "source": [
        "1. Tampilkan tabel sampai 5 baris pertama"
      ]
    },
    {
      "cell_type": "code",
      "execution_count": 178,
      "metadata": {
        "id": "lb-n7275boHL"
      },
      "outputs": [],
      "source": [
        "cur = db_con.cursor()\n",
        "q1= '''\n",
        "SELECT * FROM travel_insurance LIMIT 5\n",
        "'''\n",
        "\n",
        "cur.execute(q1)\n",
        "result = cur.fetchall()"
      ]
    },
    {
      "cell_type": "code",
      "execution_count": 179,
      "metadata": {},
      "outputs": [
        {
          "name": "stderr",
          "output_type": "stream",
          "text": [
            "c:\\Users\\praba\\anaconda3\\lib\\site-packages\\pandas\\io\\sql.py:761: UserWarning: pandas only support SQLAlchemy connectable(engine/connection) ordatabase string URI or sqlite3 DBAPI2 connectionother DBAPI2 objects are not tested, please consider using SQLAlchemy\n",
            "  warnings.warn(\n"
          ]
        },
        {
          "data": {
            "text/html": [
              "<div>\n",
              "<style scoped>\n",
              "    .dataframe tbody tr th:only-of-type {\n",
              "        vertical-align: middle;\n",
              "    }\n",
              "\n",
              "    .dataframe tbody tr th {\n",
              "        vertical-align: top;\n",
              "    }\n",
              "\n",
              "    .dataframe thead th {\n",
              "        text-align: right;\n",
              "    }\n",
              "</style>\n",
              "<table border=\"1\" class=\"dataframe\">\n",
              "  <thead>\n",
              "    <tr style=\"text-align: right;\">\n",
              "      <th></th>\n",
              "      <th>id</th>\n",
              "      <th>agency</th>\n",
              "      <th>agency_type</th>\n",
              "      <th>distribution_channel</th>\n",
              "      <th>product_name</th>\n",
              "      <th>claim</th>\n",
              "      <th>duration</th>\n",
              "      <th>destination</th>\n",
              "      <th>net_sales</th>\n",
              "      <th>commission</th>\n",
              "      <th>gender</th>\n",
              "      <th>age</th>\n",
              "    </tr>\n",
              "  </thead>\n",
              "  <tbody>\n",
              "    <tr>\n",
              "      <th>0</th>\n",
              "      <td>1</td>\n",
              "      <td>CBH</td>\n",
              "      <td>Travel Agency</td>\n",
              "      <td>Offline</td>\n",
              "      <td>Comprehensive Plan</td>\n",
              "      <td>No</td>\n",
              "      <td>186</td>\n",
              "      <td>MALAYSIA</td>\n",
              "      <td>-29</td>\n",
              "      <td>9.57</td>\n",
              "      <td>F</td>\n",
              "      <td>81</td>\n",
              "    </tr>\n",
              "    <tr>\n",
              "      <th>1</th>\n",
              "      <td>2</td>\n",
              "      <td>CBH</td>\n",
              "      <td>Travel Agency</td>\n",
              "      <td>Offline</td>\n",
              "      <td>Comprehensive Plan</td>\n",
              "      <td>No</td>\n",
              "      <td>186</td>\n",
              "      <td>MALAYSIA</td>\n",
              "      <td>-29</td>\n",
              "      <td>9.57</td>\n",
              "      <td>F</td>\n",
              "      <td>71</td>\n",
              "    </tr>\n",
              "    <tr>\n",
              "      <th>2</th>\n",
              "      <td>3</td>\n",
              "      <td>JZI</td>\n",
              "      <td>Airlines</td>\n",
              "      <td>Online</td>\n",
              "      <td>Value Plan</td>\n",
              "      <td>No</td>\n",
              "      <td>66</td>\n",
              "      <td>UNITED STATES</td>\n",
              "      <td>-121</td>\n",
              "      <td>42.35</td>\n",
              "      <td>F</td>\n",
              "      <td>44</td>\n",
              "    </tr>\n",
              "    <tr>\n",
              "      <th>3</th>\n",
              "      <td>4</td>\n",
              "      <td>JZI</td>\n",
              "      <td>Airlines</td>\n",
              "      <td>Online</td>\n",
              "      <td>Basic Plan</td>\n",
              "      <td>No</td>\n",
              "      <td>1</td>\n",
              "      <td>MALAYSIA</td>\n",
              "      <td>-18</td>\n",
              "      <td>6.30</td>\n",
              "      <td>M</td>\n",
              "      <td>47</td>\n",
              "    </tr>\n",
              "    <tr>\n",
              "      <th>4</th>\n",
              "      <td>5</td>\n",
              "      <td>KML</td>\n",
              "      <td>Travel Agency</td>\n",
              "      <td>Online</td>\n",
              "      <td>Premier Plan</td>\n",
              "      <td>No</td>\n",
              "      <td>53</td>\n",
              "      <td>NORWAY</td>\n",
              "      <td>-130</td>\n",
              "      <td>49.40</td>\n",
              "      <td>F</td>\n",
              "      <td>48</td>\n",
              "    </tr>\n",
              "  </tbody>\n",
              "</table>\n",
              "</div>"
            ],
            "text/plain": [
              "   id agency    agency_type distribution_channel        product_name claim  \\\n",
              "0   1    CBH  Travel Agency              Offline  Comprehensive Plan    No   \n",
              "1   2    CBH  Travel Agency              Offline  Comprehensive Plan    No   \n",
              "2   3    JZI       Airlines               Online          Value Plan    No   \n",
              "3   4    JZI       Airlines               Online          Basic Plan    No   \n",
              "4   5    KML  Travel Agency               Online        Premier Plan    No   \n",
              "\n",
              "   duration    destination  net_sales  commission gender  age  \n",
              "0       186       MALAYSIA        -29        9.57      F   81  \n",
              "1       186       MALAYSIA        -29        9.57      F   71  \n",
              "2        66  UNITED STATES       -121       42.35      F   44  \n",
              "3         1       MALAYSIA        -18        6.30      M   47  \n",
              "4        53         NORWAY       -130       49.40      F   48  "
            ]
          },
          "execution_count": 179,
          "metadata": {},
          "output_type": "execute_result"
        }
      ],
      "source": [
        "pd.read_sql_query(q1,db_con)"
      ]
    },
    {
      "cell_type": "markdown",
      "metadata": {},
      "source": [
        "2. Berasal dari agensi travel mana saja nasabah yang klaim asuransi?"
      ]
    },
    {
      "cell_type": "code",
      "execution_count": 180,
      "metadata": {},
      "outputs": [],
      "source": [
        "q2= '''\n",
        "SELECT DISTINCT agency FROM travel_insurance\n",
        "'''\n",
        "\n",
        "cur.execute(q2)\n",
        "result = cur.fetchall()"
      ]
    },
    {
      "cell_type": "code",
      "execution_count": 181,
      "metadata": {},
      "outputs": [
        {
          "name": "stderr",
          "output_type": "stream",
          "text": [
            "c:\\Users\\praba\\anaconda3\\lib\\site-packages\\pandas\\io\\sql.py:761: UserWarning: pandas only support SQLAlchemy connectable(engine/connection) ordatabase string URI or sqlite3 DBAPI2 connectionother DBAPI2 objects are not tested, please consider using SQLAlchemy\n",
            "  warnings.warn(\n"
          ]
        },
        {
          "data": {
            "text/html": [
              "<div>\n",
              "<style scoped>\n",
              "    .dataframe tbody tr th:only-of-type {\n",
              "        vertical-align: middle;\n",
              "    }\n",
              "\n",
              "    .dataframe tbody tr th {\n",
              "        vertical-align: top;\n",
              "    }\n",
              "\n",
              "    .dataframe thead th {\n",
              "        text-align: right;\n",
              "    }\n",
              "</style>\n",
              "<table border=\"1\" class=\"dataframe\">\n",
              "  <thead>\n",
              "    <tr style=\"text-align: right;\">\n",
              "      <th></th>\n",
              "      <th>agency</th>\n",
              "    </tr>\n",
              "  </thead>\n",
              "  <tbody>\n",
              "    <tr>\n",
              "      <th>0</th>\n",
              "      <td>CBH</td>\n",
              "    </tr>\n",
              "    <tr>\n",
              "      <th>1</th>\n",
              "      <td>JZI</td>\n",
              "    </tr>\n",
              "    <tr>\n",
              "      <th>2</th>\n",
              "      <td>KML</td>\n",
              "    </tr>\n",
              "    <tr>\n",
              "      <th>3</th>\n",
              "      <td>C2B</td>\n",
              "    </tr>\n",
              "    <tr>\n",
              "      <th>4</th>\n",
              "      <td>JWT</td>\n",
              "    </tr>\n",
              "    <tr>\n",
              "      <th>5</th>\n",
              "      <td>RAB</td>\n",
              "    </tr>\n",
              "    <tr>\n",
              "      <th>6</th>\n",
              "      <td>ART</td>\n",
              "    </tr>\n",
              "    <tr>\n",
              "      <th>7</th>\n",
              "      <td>CSR</td>\n",
              "    </tr>\n",
              "    <tr>\n",
              "      <th>8</th>\n",
              "      <td>CCR</td>\n",
              "    </tr>\n",
              "    <tr>\n",
              "      <th>9</th>\n",
              "      <td>ADM</td>\n",
              "    </tr>\n",
              "    <tr>\n",
              "      <th>10</th>\n",
              "      <td>CWT</td>\n",
              "    </tr>\n",
              "    <tr>\n",
              "      <th>11</th>\n",
              "      <td>LWC</td>\n",
              "    </tr>\n",
              "    <tr>\n",
              "      <th>12</th>\n",
              "      <td>TTW</td>\n",
              "    </tr>\n",
              "    <tr>\n",
              "      <th>13</th>\n",
              "      <td>TST</td>\n",
              "    </tr>\n",
              "  </tbody>\n",
              "</table>\n",
              "</div>"
            ],
            "text/plain": [
              "   agency\n",
              "0     CBH\n",
              "1     JZI\n",
              "2     KML\n",
              "3     C2B\n",
              "4     JWT\n",
              "5     RAB\n",
              "6     ART\n",
              "7     CSR\n",
              "8     CCR\n",
              "9     ADM\n",
              "10    CWT\n",
              "11    LWC\n",
              "12    TTW\n",
              "13    TST"
            ]
          },
          "execution_count": 181,
          "metadata": {},
          "output_type": "execute_result"
        }
      ],
      "source": [
        "pd.read_sql_query(q2,db_con)"
      ]
    },
    {
      "cell_type": "markdown",
      "metadata": {},
      "source": [
        "Jika kita mengabaikan status klaim baik diterima ataupun tidak, terdapat 13 agensi travel yang menawarkan asuransi perjalanan dari tipe apapun."
      ]
    },
    {
      "cell_type": "markdown",
      "metadata": {},
      "source": [
        "3. Tipe agensi apa yang paling banyak yang klaim asuransinya diterima?"
      ]
    },
    {
      "cell_type": "code",
      "execution_count": 182,
      "metadata": {},
      "outputs": [],
      "source": [
        "q3= '''\n",
        "SELECT agency_type, count(claim) as total FROM \n",
        "\t(SELECT * FROM travel_insurance WHERE claim = \"Yes\") as q1\n",
        "GROUP BY agency_type\n",
        "'''\n",
        "\n",
        "cur.execute(q3)\n",
        "result = cur.fetchall()"
      ]
    },
    {
      "cell_type": "code",
      "execution_count": 183,
      "metadata": {},
      "outputs": [
        {
          "name": "stderr",
          "output_type": "stream",
          "text": [
            "c:\\Users\\praba\\anaconda3\\lib\\site-packages\\pandas\\io\\sql.py:761: UserWarning: pandas only support SQLAlchemy connectable(engine/connection) ordatabase string URI or sqlite3 DBAPI2 connectionother DBAPI2 objects are not tested, please consider using SQLAlchemy\n",
            "  warnings.warn(\n"
          ]
        },
        {
          "data": {
            "text/html": [
              "<div>\n",
              "<style scoped>\n",
              "    .dataframe tbody tr th:only-of-type {\n",
              "        vertical-align: middle;\n",
              "    }\n",
              "\n",
              "    .dataframe tbody tr th {\n",
              "        vertical-align: top;\n",
              "    }\n",
              "\n",
              "    .dataframe thead th {\n",
              "        text-align: right;\n",
              "    }\n",
              "</style>\n",
              "<table border=\"1\" class=\"dataframe\">\n",
              "  <thead>\n",
              "    <tr style=\"text-align: right;\">\n",
              "      <th></th>\n",
              "      <th>agency_type</th>\n",
              "      <th>total</th>\n",
              "    </tr>\n",
              "  </thead>\n",
              "  <tbody>\n",
              "    <tr>\n",
              "      <th>0</th>\n",
              "      <td>Airlines</td>\n",
              "      <td>584</td>\n",
              "    </tr>\n",
              "    <tr>\n",
              "      <th>1</th>\n",
              "      <td>Travel Agency</td>\n",
              "      <td>55</td>\n",
              "    </tr>\n",
              "  </tbody>\n",
              "</table>\n",
              "</div>"
            ],
            "text/plain": [
              "     agency_type  total\n",
              "0       Airlines    584\n",
              "1  Travel Agency     55"
            ]
          },
          "execution_count": 183,
          "metadata": {},
          "output_type": "execute_result"
        }
      ],
      "source": [
        "pd.read_sql_query(q3,db_con)"
      ]
    },
    {
      "cell_type": "markdown",
      "metadata": {},
      "source": [
        "Dapat dilihat bahwa jenis agensi yang berhasil untuk mengklaim asuransinya kebanyakan adalah tipe airlines yang jumlahnya cukup timpang dibandingkan dengan travel agency. Hal ini dapat berarti bahwa asuransi yang ditawarkan oleh travel agency banyak yang tidak dapat di klaim."
      ]
    },
    {
      "cell_type": "markdown",
      "metadata": {},
      "source": [
        "4. Destinasi negara mana yang paling banyak diterima klaim asuransinya?"
      ]
    },
    {
      "cell_type": "code",
      "execution_count": 184,
      "metadata": {},
      "outputs": [],
      "source": [
        "q4= '''\n",
        "SELECT destination, count(claim) as total FROM \n",
        "\t(SELECT * FROM travel_insurance WHERE claim = \"Yes\") as q1\n",
        "GROUP BY destination ORDER BY total DESC LIMIT 10\n",
        "'''\n",
        "\n",
        "cur.execute(q4)\n",
        "result = cur.fetchall()"
      ]
    },
    {
      "cell_type": "code",
      "execution_count": 185,
      "metadata": {},
      "outputs": [
        {
          "name": "stderr",
          "output_type": "stream",
          "text": [
            "c:\\Users\\praba\\anaconda3\\lib\\site-packages\\pandas\\io\\sql.py:761: UserWarning: pandas only support SQLAlchemy connectable(engine/connection) ordatabase string URI or sqlite3 DBAPI2 connectionother DBAPI2 objects are not tested, please consider using SQLAlchemy\n",
            "  warnings.warn(\n"
          ]
        },
        {
          "data": {
            "text/html": [
              "<div>\n",
              "<style scoped>\n",
              "    .dataframe tbody tr th:only-of-type {\n",
              "        vertical-align: middle;\n",
              "    }\n",
              "\n",
              "    .dataframe tbody tr th {\n",
              "        vertical-align: top;\n",
              "    }\n",
              "\n",
              "    .dataframe thead th {\n",
              "        text-align: right;\n",
              "    }\n",
              "</style>\n",
              "<table border=\"1\" class=\"dataframe\">\n",
              "  <thead>\n",
              "    <tr style=\"text-align: right;\">\n",
              "      <th></th>\n",
              "      <th>destination</th>\n",
              "      <th>total</th>\n",
              "    </tr>\n",
              "  </thead>\n",
              "  <tbody>\n",
              "    <tr>\n",
              "      <th>0</th>\n",
              "      <td>SINGAPORE</td>\n",
              "      <td>550</td>\n",
              "    </tr>\n",
              "    <tr>\n",
              "      <th>1</th>\n",
              "      <td>UNITED STATES</td>\n",
              "      <td>16</td>\n",
              "    </tr>\n",
              "    <tr>\n",
              "      <th>2</th>\n",
              "      <td>CHINA</td>\n",
              "      <td>12</td>\n",
              "    </tr>\n",
              "    <tr>\n",
              "      <th>3</th>\n",
              "      <td>INDONESIA</td>\n",
              "      <td>10</td>\n",
              "    </tr>\n",
              "    <tr>\n",
              "      <th>4</th>\n",
              "      <td>MALAYSIA</td>\n",
              "      <td>8</td>\n",
              "    </tr>\n",
              "    <tr>\n",
              "      <th>5</th>\n",
              "      <td>THAILAND</td>\n",
              "      <td>6</td>\n",
              "    </tr>\n",
              "    <tr>\n",
              "      <th>6</th>\n",
              "      <td>JAPAN</td>\n",
              "      <td>5</td>\n",
              "    </tr>\n",
              "    <tr>\n",
              "      <th>7</th>\n",
              "      <td>HONG KONG</td>\n",
              "      <td>5</td>\n",
              "    </tr>\n",
              "    <tr>\n",
              "      <th>8</th>\n",
              "      <td>KOREA, REPUBLIC OF</td>\n",
              "      <td>5</td>\n",
              "    </tr>\n",
              "    <tr>\n",
              "      <th>9</th>\n",
              "      <td>VIET NAM</td>\n",
              "      <td>4</td>\n",
              "    </tr>\n",
              "  </tbody>\n",
              "</table>\n",
              "</div>"
            ],
            "text/plain": [
              "          destination  total\n",
              "0           SINGAPORE    550\n",
              "1       UNITED STATES     16\n",
              "2               CHINA     12\n",
              "3           INDONESIA     10\n",
              "4            MALAYSIA      8\n",
              "5            THAILAND      6\n",
              "6               JAPAN      5\n",
              "7           HONG KONG      5\n",
              "8  KOREA, REPUBLIC OF      5\n",
              "9            VIET NAM      4"
            ]
          },
          "execution_count": 185,
          "metadata": {},
          "output_type": "execute_result"
        }
      ],
      "source": [
        "pd.read_sql_query(q4,db_con)"
      ]
    },
    {
      "cell_type": "markdown",
      "metadata": {},
      "source": [
        "Perjalanan travel yang banyak sukses dalam mengklaim asuransinya di kasus ini adalah Singapur degan jumlah 550 klaim. Hal ini dapat disebabkan oleh banyaknya orang yang bepergian ke Singapur, namun juga dapat karena permasalahan lain yang banyak dialami bersama oleh user yang bepergian ke destinasi tersebut."
      ]
    },
    {
      "cell_type": "markdown",
      "metadata": {},
      "source": [
        "5. Berapa nilai minimum, maksimum, dan rata-rata usia yang pengajuan klaim asuransinya diterima?"
      ]
    },
    {
      "cell_type": "code",
      "execution_count": 186,
      "metadata": {},
      "outputs": [],
      "source": [
        "q5 = '''\n",
        "SELECT avg(age) AS mean,\n",
        "min(age) as minimum,\n",
        "max(age) as maximum FROM\n",
        "\t(SELECT age FROM travel_insurance WHERE claim = \"Yes\") as keep\n",
        "'''\n",
        "\n",
        "cur.execute(q5)\n",
        "result = cur.fetchall()"
      ]
    },
    {
      "cell_type": "code",
      "execution_count": 187,
      "metadata": {},
      "outputs": [
        {
          "name": "stderr",
          "output_type": "stream",
          "text": [
            "c:\\Users\\praba\\anaconda3\\lib\\site-packages\\pandas\\io\\sql.py:761: UserWarning: pandas only support SQLAlchemy connectable(engine/connection) ordatabase string URI or sqlite3 DBAPI2 connectionother DBAPI2 objects are not tested, please consider using SQLAlchemy\n",
            "  warnings.warn(\n"
          ]
        },
        {
          "data": {
            "text/html": [
              "<div>\n",
              "<style scoped>\n",
              "    .dataframe tbody tr th:only-of-type {\n",
              "        vertical-align: middle;\n",
              "    }\n",
              "\n",
              "    .dataframe tbody tr th {\n",
              "        vertical-align: top;\n",
              "    }\n",
              "\n",
              "    .dataframe thead th {\n",
              "        text-align: right;\n",
              "    }\n",
              "</style>\n",
              "<table border=\"1\" class=\"dataframe\">\n",
              "  <thead>\n",
              "    <tr style=\"text-align: right;\">\n",
              "      <th></th>\n",
              "      <th>mean</th>\n",
              "      <th>minimum</th>\n",
              "      <th>maximum</th>\n",
              "    </tr>\n",
              "  </thead>\n",
              "  <tbody>\n",
              "    <tr>\n",
              "      <th>0</th>\n",
              "      <td>38.8294</td>\n",
              "      <td>14</td>\n",
              "      <td>118</td>\n",
              "    </tr>\n",
              "  </tbody>\n",
              "</table>\n",
              "</div>"
            ],
            "text/plain": [
              "      mean  minimum  maximum\n",
              "0  38.8294       14      118"
            ]
          },
          "execution_count": 187,
          "metadata": {},
          "output_type": "execute_result"
        }
      ],
      "source": [
        "pd.read_sql_query(q5,db_con)"
      ]
    },
    {
      "cell_type": "markdown",
      "metadata": {},
      "source": [
        "Dapat dilihat bahwa individu yang berhasil untuk mengklaim asuransinya adalah individu dengan umur sekitar 38. Adapun individu termuda dan tertua yang berhasil untuk mengklaim asuransinya adalah 14 dan 118 tahun. Dari data ini, dapat didalami lagi masing masing alasan dibalik mengapa mereka dapat mengklaim asuransi. Walaupun begitu, para agensi travel dapat berfokus kepada kebutuhan/permaslahan perjalanan pada individu yang berusia akhir 30 an."
      ]
    },
    {
      "cell_type": "markdown",
      "metadata": {},
      "source": [
        "6. Jika agen asuransi hanya mengurusi klaim yang tujuan negaranya Singapura, Thailand, dan Malaysia, berapa total komisi yang didapat dari klaim yang diterima? (anggap komisi dalam USD)"
      ]
    },
    {
      "cell_type": "code",
      "execution_count": 188,
      "metadata": {},
      "outputs": [],
      "source": [
        "q6 = '''\n",
        "SELECT sum(commission) as total FROM \n",
        "\t(SELECT * FROM travel_insurance\n",
        "    WHERE destination = \"SINGAPORE\" \n",
        "    OR destination = \"THAILAND\" \n",
        "    OR destination = \"MALAYSIA\") as countries\n",
        "\n",
        "'''\n",
        "\n",
        "cur.execute(q6)\n",
        "result = cur.fetchall()"
      ]
    },
    {
      "cell_type": "code",
      "execution_count": 189,
      "metadata": {},
      "outputs": [
        {
          "name": "stderr",
          "output_type": "stream",
          "text": [
            "c:\\Users\\praba\\anaconda3\\lib\\site-packages\\pandas\\io\\sql.py:761: UserWarning: pandas only support SQLAlchemy connectable(engine/connection) ordatabase string URI or sqlite3 DBAPI2 connectionother DBAPI2 objects are not tested, please consider using SQLAlchemy\n",
            "  warnings.warn(\n"
          ]
        },
        {
          "data": {
            "text/html": [
              "<div>\n",
              "<style scoped>\n",
              "    .dataframe tbody tr th:only-of-type {\n",
              "        vertical-align: middle;\n",
              "    }\n",
              "\n",
              "    .dataframe tbody tr th {\n",
              "        vertical-align: top;\n",
              "    }\n",
              "\n",
              "    .dataframe thead th {\n",
              "        text-align: right;\n",
              "    }\n",
              "</style>\n",
              "<table border=\"1\" class=\"dataframe\">\n",
              "  <thead>\n",
              "    <tr style=\"text-align: right;\">\n",
              "      <th></th>\n",
              "      <th>total</th>\n",
              "    </tr>\n",
              "  </thead>\n",
              "  <tbody>\n",
              "    <tr>\n",
              "      <th>0</th>\n",
              "      <td>193914.34</td>\n",
              "    </tr>\n",
              "  </tbody>\n",
              "</table>\n",
              "</div>"
            ],
            "text/plain": [
              "       total\n",
              "0  193914.34"
            ]
          },
          "execution_count": 189,
          "metadata": {},
          "output_type": "execute_result"
        }
      ],
      "source": [
        "pd.read_sql_query(q6,db_con)"
      ]
    },
    {
      "cell_type": "markdown",
      "metadata": {},
      "source": [
        "Dari total komisi dengan tujuan Singapur, Thailand, dan Malaysia yang sebelumnya memiliki nilai rendah pada jumlah klaim yang berhasil, agensi travel mendapatkan $193.914,34. Informasi tersebut dapat digunakan jika mereka ingin menganalisa lebih lanjut terhadap komisi yang akan didapatkan jika berfokus kepada tujuan destinasi lain, dan untuk menganalisa lebih lanjut terhadap pengalaman customer yang menggunakan servis asuransi tersebut."
      ]
    },
    {
      "cell_type": "markdown",
      "metadata": {
        "id": "6szP5OYHboHL"
      },
      "source": [
        "## Conclusions\n",
        "\n",
        "**Bahasa Indonesia**\n",
        "\n",
        "Dari analisis yang dilakukan di atas dapat disimpulkan bahwa meskipun terdapat 13 agen yang menyediakan jasa asuransi perjalanan, namun jenis agen yang paling banyak mendapatkan klaim asuransinya adalah melalui maskapai penerbangan (584). Ditemukan pula bahwa negara tujuan yang paling banyak diklaim berhasil diklaim adalah Singapura, disusul Amerika Serikat. Usia pengguna yang biasanya bisa mendapatkan klaim adalah sekitar 38 tahun. Artinya, jika mereka ingin mengoptimalkan layanan mereka dalam asuransi perjalanan, mereka dapat menganalisis kebutuhan orang-orang yang akan pergi ke Singapura dan AS, dan berusia akhir tiga puluhan. Mereka juga dapat mempertimbangkan untuk berfokus pada penawaran layanan mereka melalui maskapai penerbangan.\n",
        "\n",
        "Selain itu, ditemukan juga jika mereka hanya mengurus klaim dengan tujuan Singapura, Thailand, dan Malaysia, mereka mendapatkan $193.914,34. Untuk analisis selanjutnya, mereka dapat mencoba menghitung berapa total komisi yang akan mereka dapatkan jika fokus pada destinasi teratas dengan klaim terbanyak.\n",
        "\n",
        "\n",
        "**English**\n",
        "\n",
        "From the analysis made above, it can be inferred that although there are 13 agencies that provide travel insurance services, the agency type that gets their insurance successfully claimed the most is through airlines (584). It's also found that the country destination that gets successfully claimed the most is to Singapore, followed by The US. The user's age that is typically able to get claims is around 38 years old. This means that if they want to optimize their services in travel insurance, they could analyze the needs of people who is going to Singapore and the US, and is in their late thirties. They could also consider focusing on offering their services through airlines instead.\n",
        "\n",
        "Other than that, it's also found that if they only take care of the claims with the destination of Singapore, Thailand, and Malaysia, they get $193.914,34. For the next analysis, they could try to calculate how much total commissions that they would get if they focused on the top destinations with the most claims."
      ]
    }
  ],
  "metadata": {
    "colab": {
      "collapsed_sections": [],
      "name": "h8dsft_P0LC3_Prabaningrum.ipynb",
      "provenance": []
    },
    "gpuClass": "standard",
    "kernelspec": {
      "display_name": "Python 3.9.12 ('base')",
      "language": "python",
      "name": "python3"
    },
    "language_info": {
      "codemirror_mode": {
        "name": "ipython",
        "version": 3
      },
      "file_extension": ".py",
      "mimetype": "text/x-python",
      "name": "python",
      "nbconvert_exporter": "python",
      "pygments_lexer": "ipython3",
      "version": "3.9.12"
    },
    "orig_nbformat": 4,
    "vscode": {
      "interpreter": {
        "hash": "2b4d7b9a044dfafd283ac5e998378fc233f274b1ac169120ad58a77e18bcfdd3"
      }
    }
  },
  "nbformat": 4,
  "nbformat_minor": 0
}
